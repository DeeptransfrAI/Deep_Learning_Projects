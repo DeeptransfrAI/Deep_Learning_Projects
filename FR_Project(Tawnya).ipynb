{
  "nbformat": 4,
  "nbformat_minor": 0,
  "metadata": {
    "colab": {
      "name": "FR_Project(Tawnya).ipynb",
      "provenance": [],
      "collapsed_sections": [],
      "include_colab_link": true
    },
    "kernelspec": {
      "name": "python3",
      "display_name": "Python 3"
    },
    "accelerator": "GPU"
  },
  "cells": [
    {
      "cell_type": "markdown",
      "metadata": {
        "id": "view-in-github",
        "colab_type": "text"
      },
      "source": [
        "<a href=\"https://colab.research.google.com/github/DeeptransfrAI/Deep_Learning_Projects/blob/master/FR_Project(Tawnya).ipynb\" target=\"_parent\"><img src=\"https://colab.research.google.com/assets/colab-badge.svg\" alt=\"Open In Colab\"/></a>"
      ]
    },
    {
      "cell_type": "code",
      "metadata": {
        "id": "-NUfBfUSXQ18",
        "colab_type": "code",
        "outputId": "349394e5-6ccd-4a60-85fe-52d39f10993e",
        "colab": {
          "base_uri": "https://localhost:8080/",
          "height": 50
        }
      },
      "source": [
        "%tensorflow_version 1.x\n",
        "import tensorflow as tf\n",
        "print(tf.__version__)"
      ],
      "execution_count": 0,
      "outputs": [
        {
          "output_type": "stream",
          "text": [
            "TensorFlow 1.x selected.\n",
            "1.15.2\n"
          ],
          "name": "stdout"
        }
      ]
    },
    {
      "cell_type": "code",
      "metadata": {
        "id": "laj_86WvatgX",
        "colab_type": "code",
        "outputId": "cc878410-8579-4102-e1d7-8c1f1f0084cd",
        "colab": {
          "base_uri": "https://localhost:8080/",
          "height": 245
        }
      },
      "source": [
        "#facial detection..first step in facial recognition process\n",
        "!sudo pip install mtcnn "
      ],
      "execution_count": 0,
      "outputs": [
        {
          "output_type": "stream",
          "text": [
            "Collecting mtcnn\n",
            "\u001b[?25l  Downloading https://files.pythonhosted.org/packages/67/43/abee91792797c609c1bf30f1112117f7a87a713ebaa6ec5201d5555a73ef/mtcnn-0.1.0-py3-none-any.whl (2.3MB)\n",
            "\u001b[K     |████████████████████████████████| 2.3MB 6.4MB/s \n",
            "\u001b[?25hRequirement already satisfied: keras>=2.0.0 in /usr/local/lib/python3.6/dist-packages (from mtcnn) (2.3.1)\n",
            "Requirement already satisfied: opencv-python>=4.1.0 in /usr/local/lib/python3.6/dist-packages (from mtcnn) (4.1.2.30)\n",
            "Requirement already satisfied: numpy>=1.9.1 in /usr/local/lib/python3.6/dist-packages (from keras>=2.0.0->mtcnn) (1.18.2)\n",
            "Requirement already satisfied: six>=1.9.0 in /usr/local/lib/python3.6/dist-packages (from keras>=2.0.0->mtcnn) (1.12.0)\n",
            "Requirement already satisfied: scipy>=0.14 in /usr/local/lib/python3.6/dist-packages (from keras>=2.0.0->mtcnn) (1.4.1)\n",
            "Requirement already satisfied: keras-applications>=1.0.6 in /usr/local/lib/python3.6/dist-packages (from keras>=2.0.0->mtcnn) (1.0.8)\n",
            "Requirement already satisfied: keras-preprocessing>=1.0.5 in /usr/local/lib/python3.6/dist-packages (from keras>=2.0.0->mtcnn) (1.1.0)\n",
            "Requirement already satisfied: pyyaml in /usr/local/lib/python3.6/dist-packages (from keras>=2.0.0->mtcnn) (3.13)\n",
            "Requirement already satisfied: h5py in /usr/local/lib/python3.6/dist-packages (from keras>=2.0.0->mtcnn) (2.10.0)\n",
            "Installing collected packages: mtcnn\n",
            "Successfully installed mtcnn-0.1.0\n"
          ],
          "name": "stdout"
        }
      ]
    },
    {
      "cell_type": "code",
      "metadata": {
        "id": "qW9PfOgBjS5r",
        "colab_type": "code",
        "outputId": "e346caa5-6a4f-4d83-c3e9-4f05bccccd94",
        "colab": {
          "base_uri": "https://localhost:8080/",
          "height": 118
        }
      },
      "source": [
        "from google.colab import drive\n",
        "drive.mount('/content/drive')"
      ],
      "execution_count": 0,
      "outputs": [
        {
          "output_type": "stream",
          "text": [
            "Go to this URL in a browser: https://accounts.google.com/o/oauth2/auth?client_id=947318989803-6bn6qk8qdgf4n4g3pfee6491hc0brc4i.apps.googleusercontent.com&redirect_uri=urn%3aietf%3awg%3aoauth%3a2.0%3aoob&response_type=code&scope=email%20https%3a%2f%2fwww.googleapis.com%2fauth%2fdocs.test%20https%3a%2f%2fwww.googleapis.com%2fauth%2fdrive%20https%3a%2f%2fwww.googleapis.com%2fauth%2fdrive.photos.readonly%20https%3a%2f%2fwww.googleapis.com%2fauth%2fpeopleapi.readonly\n",
            "\n",
            "Enter your authorization code:\n",
            "··········\n",
            "Mounted at /content/drive\n"
          ],
          "name": "stdout"
        }
      ]
    },
    {
      "cell_type": "code",
      "metadata": {
        "id": "U6CqTX9kZz9p",
        "colab_type": "code",
        "outputId": "99032cb7-e001-4f11-9af4-fc7999fabae7",
        "colab": {
          "resources": {
            "http://localhost:8080/nbextensions/google.colab/files.js": {
              "data": "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",
              "ok": true,
              "headers": [
                [
                  "content-type",
                  "application/javascript"
                ]
              ],
              "status": 200,
              "status_text": ""
            }
          },
          "base_uri": "https://localhost:8080/",
          "height": 255
        }
      },
      "source": [
        "#exmaple of loading the keras facenet model\n",
        "from keras.models import load_model\n",
        "from google.colab import files\n",
        "uploaded= files.upload()\n",
        "\n",
        "#load the model\n",
        "model= load_model('facenet_keras.h5')\n",
        "#summarize input and output shape\n",
        "print(model.inputs)\n",
        "print(model.outputs)"
      ],
      "execution_count": 0,
      "outputs": [
        {
          "output_type": "stream",
          "text": [
            "Using TensorFlow backend.\n"
          ],
          "name": "stderr"
        },
        {
          "output_type": "display_data",
          "data": {
            "text/html": [
              "\n",
              "     <input type=\"file\" id=\"files-0a4e11c2-8642-4bc1-ad2d-dca8bd834f40\" name=\"files[]\" multiple disabled />\n",
              "     <output id=\"result-0a4e11c2-8642-4bc1-ad2d-dca8bd834f40\">\n",
              "      Upload widget is only available when the cell has been executed in the\n",
              "      current browser session. Please rerun this cell to enable.\n",
              "      </output>\n",
              "      <script src=\"/nbextensions/google.colab/files.js\"></script> "
            ],
            "text/plain": [
              "<IPython.core.display.HTML object>"
            ]
          },
          "metadata": {
            "tags": []
          }
        },
        {
          "output_type": "stream",
          "text": [
            "Saving facenet_keras.h5 to facenet_keras.h5\n",
            "WARNING:tensorflow:From /tensorflow-1.15.2/python3.6/tensorflow_core/python/ops/resource_variable_ops.py:1630: calling BaseResourceVariable.__init__ (from tensorflow.python.ops.resource_variable_ops) with constraint is deprecated and will be removed in a future version.\n",
            "Instructions for updating:\n",
            "If using Keras pass *_constraint arguments to layers.\n",
            "WARNING:tensorflow:From /usr/local/lib/python3.6/dist-packages/keras/backend/tensorflow_backend.py:4070: The name tf.nn.max_pool is deprecated. Please use tf.nn.max_pool2d instead.\n",
            "\n",
            "[<tf.Tensor 'input_1:0' shape=(?, 160, 160, 3) dtype=float32>]\n",
            "[<tf.Tensor 'Bottleneck_BatchNorm/cond/Merge:0' shape=(?, 128) dtype=float32>]\n"
          ],
          "name": "stdout"
        },
        {
          "output_type": "stream",
          "text": [
            "/usr/local/lib/python3.6/dist-packages/keras/engine/saving.py:341: UserWarning: No training configuration found in save file: the model was *not* compiled. Compile it manually.\n",
            "  warnings.warn('No training configuration found in save file: '\n"
          ],
          "name": "stderr"
        }
      ]
    },
    {
      "cell_type": "code",
      "metadata": {
        "id": "OtJUddSlxMEh",
        "colab_type": "code",
        "colab": {}
      },
      "source": [
        "#first we must demonstrate face detection\n",
        "#real code\n",
        "from os import listdir\n",
        "from os.path import isdir\n",
        "from numpy import savez_compressed\n",
        "from PIL import Image\n",
        "from numpy import asarray\n",
        "from matplotlib import pyplot\n",
        "from mtcnn.mtcnn import MTCNN\n",
        "\n",
        "\n",
        "#extract a single face from a given photo\n",
        "def extract_face(filename, required_size=(160,160)):\n",
        "  #load image from file\n",
        "  image= Image.open(filename)\n",
        "  #convert to RGB if needed\n",
        "  image= image.convert('RGB')\n",
        "  #convert to array\n",
        "  pixels= asarray(image)\n",
        "  #create the detector , using the default weights\n",
        "  detector= MTCNN()\n",
        "  #detect faces in image\n",
        "  results= detector.detect_faces(pixels)\n",
        "  #extract the bounding box from the first face\n",
        "  x1, y1, width, height= results[0]['box']\n",
        "  #bug fix\n",
        "  x1, y1= abs(x1), abs(y1)\n",
        "  x2, y2= x1 + width, y1 + height\n",
        "  #extract the face\n",
        "  face= pixels[y1:y2, x1:x2]\n",
        "  #resize pixels to model size\n",
        "  image= Image.fromarray(face)\n",
        "  image= image.resize(required_size)\n",
        "  face_array= asarray(image)\n",
        "  return face_array\n",
        "\n",
        "#specify folder to plot\n",
        "folder= '/content/drive/My Drive/Image Datasets/Tawnya_Images/Train/Aaron/'\n",
        "i= 1\n",
        "#enumrate files\n",
        "for filename in listdir(folder):\n",
        "  #path\n",
        "  path= folder + filename\n",
        "  #get face\n",
        "  face= extract_face(path)\n",
        "  print(i, face.shape)\n",
        "  #plot\n",
        "  pyplot.subplot(2,8,i)\n",
        "  pyplot.axis('off')\n",
        "  pyplot.imshow(face)\n",
        "  i += 1\n",
        "pyplot.show()"
      ],
      "execution_count": 0,
      "outputs": []
    },
    {
      "cell_type": "markdown",
      "metadata": {
        "id": "n9lB2VuZHs16",
        "colab_type": "text"
      },
      "source": [
        "#so far so good. Lets continue"
      ]
    },
    {
      "cell_type": "code",
      "metadata": {
        "id": "8OWyRthFH7ou",
        "colab_type": "code",
        "colab": {}
      },
      "source": [
        "#complete code example\n",
        "#face detection for Tawyna's Dataset\n",
        "import numpy as np\n",
        "from os import listdir\n",
        "from os.path import isdir\n",
        "from PIL import Image\n",
        "from numpy import savez_compressed\n",
        "from numpy import asarray\n",
        "from mtcnn.mtcnn import MTCNN\n",
        "\n",
        "#extract a single face from a given photo\n",
        "def extract_face(filename, required_size=(160, 160)):\n",
        "  #load image from file\n",
        "  image = Image.open(filename)\n",
        "  #convert if RGB if needed\n",
        "  image= image.convert('RGB')\n",
        "  #convert to array\n",
        "  pixels= asarray(image)\n",
        "  #create the detector using default weights\n",
        "  detector = MTCNN()\n",
        "  #detect faces in the image\n",
        "  results= detector.detect_faces(pixels)\n",
        "  #extract the bounding box from the first face\n",
        "  x1, y1, width, height= results[0]['box']\n",
        "  #bug fix\n",
        "  x1, y1= abs(x1), abs(y1)\n",
        "  x2, y2= x1 + width, y1 + height\n",
        "  #extract the face\n",
        "  face= pixels[y1:y2, x1:x2]\n",
        "  #resize pixels to the model size\n",
        "  image= Image.fromarray(face)\n",
        "  image= image.resize(required_size)\n",
        "  face_array= asarray(image)\n",
        "  return face_array\n",
        "\n",
        "#load images and extract faces for all images in a directory \n",
        "def load_faces(directory):\n",
        "  faces = list()\n",
        "  #enumrate files\n",
        "  for filename in listdir(directory):\n",
        "    #path\n",
        "    path= directory + filename\n",
        "    #get face\n",
        "    face = extract_face(path)\n",
        "    #store\n",
        "    faces.append(face)\n",
        "  return faces\n",
        "\n",
        "#load a dataset that contains one subdir for each class that in turn contains images\n",
        "def load_dataset(directory):\n",
        "  X, y= list(), list()\n",
        "  #enumerate folders, on per class\n",
        "  for subdir in listdir(directory):\n",
        "    #path\n",
        "    path= directory + subdir + '/'\n",
        "    #skip any files that might be in the dir\n",
        "    if not isdir(path):\n",
        "      continue\n",
        "    #oad all faces in the subdirectory\n",
        "    faces= load_faces(path)\n",
        "    #create labels\n",
        "    labels= [subdir for _ in range(len(faces))]\n",
        "    #summarize progress \n",
        "    print('>loaded %d examples for class: %s' % (len(faces), subdir))\n",
        "    #store\n",
        "    X.extend(faces)\n",
        "    y.extend(labels)\n",
        "  return asarray(X), asarray(y)\n",
        "\n",
        "#load training dataset \n",
        "trainx, trainy= load_dataset('/content/drive/My Drive/Image Datasets/Tawnya_Images/Train/')\n",
        "#trainx2, trainy2= load_dataset('/content/drive/My Drive/Image Datasets/Tawnya_Images/Train/Marc/')\n",
        "print(trainx.shape, trainy.shape)\n",
        "#print(trainx2.shape, trainy2.shape)\n",
        "\n",
        "#load test dataset\n",
        "testx, testy= load_dataset('/content/drive/My Drive/Image Datasets/Tawnya_Images/Val/')"
      ],
      "execution_count": 0,
      "outputs": []
    },
    {
      "cell_type": "code",
      "metadata": {
        "id": "_H4RnW64JBe-",
        "colab_type": "code",
        "colab": {}
      },
      "source": [
        "#save arrays to one file in compressed format\n",
        "savez_compressed('/content/drive/My Drive/Tawnya_Images_dataset.npz', trainx, trainy, testx, testy)"
      ],
      "execution_count": 0,
      "outputs": []
    },
    {
      "cell_type": "code",
      "metadata": {
        "id": "QI1CCnzIT7gt",
        "colab_type": "code",
        "colab": {}
      },
      "source": [
        "#calculate a face embedding for each face in the dataset using facenet\n",
        "import numpy as np\n",
        "from numpy import load\n",
        "from numpy import expand_dims\n",
        "from numpy import asarray\n",
        "from numpy import savez_compressed\n",
        "from keras.models import load_model\n",
        "\n",
        "#get the face embedding for one face\n",
        "def get_embedding(model, face_pixels):\n",
        "  #scale pixel values\n",
        "  face_pixels= face_pixels.astype('float32')\n",
        "  #standardize pixel values across all global channels\n",
        "  mean, std= face_pixels.mean(), face_pixels.std()\n",
        "  face_pixels= (face_pixels - mean) /std\n",
        "  #transform face into one sample\n",
        "  samples= expand_dims(face_pixels, axis= 0)\n",
        "  #make predictions to get embeddings \n",
        "  yhat= model.predict(samples)\n",
        "  return yhat[0]\n",
        "\n",
        "#time for face embedding\n",
        "#load face datatset\n",
        "data= load(\"/content/drive/My Drive/Tawnya_Images_dataset.npz\")\n",
        "trainx, trainy, testx, testy= data['arr_0'], data['arr_1'], data['arr_2'], data['arr_3']\n",
        "print('Loaded:',trainx.shape, trainy.shape, testx.shape, testy.shape)\n",
        "#load facenet model\n",
        "model= load_model('/content/drive/My Drive/Data/facenet_keras.h5')\n",
        "print('Loaded Model')\n",
        "\n",
        "#convert each image in the training set to an embedding\n",
        "newTrainx= list()\n",
        "for face_pixels in trainx:\n",
        "  embedding= get_embedding(model, face_pixels)\n",
        "  newTrainx.append(embedding)\n",
        "newTrainx= asarray(newTrainx)\n",
        "print(newTrainx.shape)\n",
        "\n",
        "#convert each face in the test set to an embedding\n",
        "newTestx= list()\n",
        "for face_pixels in testx:\n",
        "  embedding= get_embedding(model, face_pixels)\n",
        "  newTestx.append(embedding)\n",
        "newTestx= asarray(newTestx)\n",
        "print(newTestx.shape)\n",
        "\n",
        "#save arrays to one file in a compressed format\n",
        "savez_compressed('/content/drive/My Drive/Tawnya_Images-embeddings.npz', newTrainx, trainy, newTestx, testy)"
      ],
      "execution_count": 0,
      "outputs": []
    },
    {
      "cell_type": "code",
      "metadata": {
        "id": "bUYF1pYdtBFf",
        "colab_type": "code",
        "outputId": "87241bfc-71ad-4cf6-87e7-afc6ec61c7ce",
        "colab": {
          "base_uri": "https://localhost:8080/",
          "height": 352
        }
      },
      "source": [
        "#develop a classifier for the dataset\n",
        "from random import choice\n",
        "from numpy import load\n",
        "from sklearn.metrics import accuracy_score\n",
        "from sklearn.preprocessing import LabelEncoder\n",
        "from sklearn.preprocessing import Normalizer\n",
        "from sklearn.svm import SVC\n",
        "from matplotlib import pyplot\n",
        "\n",
        "#load faces\n",
        "data= load('/content/drive/My Drive/Tawnya_Images_dataset.npz')  #npz file\n",
        "testx_faces= data['arr_2']\n",
        "#load face embeddings\n",
        "data= load('/content/drive/My Drive/Tawnya_Images-embeddings.npz')    #this is the npz dataset that was trained\n",
        "trainx, trainy, testx, testy= data['arr_0'], data['arr_1'], data['arr_2'], data['arr_3']\n",
        "print('Dataset: train=%d, test=%d' % (trainx.shape[0], testx.shape[0]))\n",
        "#normalize input vectors\n",
        "in_encoder= Normalizer(norm= 'l2')\n",
        "trainx= in_encoder.transform(trainx)\n",
        "testx= in_encoder.transform(testx)\n",
        "#label encode targets\n",
        "out_encoder= LabelEncoder()\n",
        "out_encoder.fit(trainy)\n",
        "trainy= out_encoder.transform(trainy)\n",
        "testy= out_encoder.transform(testy)\n",
        "#fit model\n",
        "model= SVC(kernel= 'linear', probability= True)\n",
        "model.fit(trainx, trainy)\n",
        "#predict\n",
        "yhat_train= model.predict(trainx)\n",
        "yhat_test= model.predict(testx)\n",
        "#score\n",
        "score_train= accuracy_score(trainy, yhat_train)\n",
        "score_test= accuracy_score(testy, yhat_test)\n",
        "#summarize\n",
        "print('Accuracy: train=%.3f, test= %.3f' % (score_train * 100, score_test * 100))\n",
        "#test model on random example from the test dataset\n",
        "selection= choice([i for i in range(testx.shape[0])])\n",
        "random_face_pixels= testx_faces[selection]\n",
        "random_face_emb= testx[selection]\n",
        "random_face_class= testy[selection]\n",
        "random_face_name= out_encoder.inverse_transform([random_face_class])\n",
        "prediction for the face\n",
        "samples= expand_dims(random_face_emb, axis=0)\n",
        "yhat_class= model.predict(s)\n",
        "yhat_prob= model.predict_proba(s)\n",
        "#get name\n",
        "class_index= yhat_class[0]\n",
        "class_probability= yhat_prob[0, class_index] * 100\n",
        "predict_names= out_encoder.inverse_transform(yhat_class)\n",
        "print('Predicted: %s (%.3f)' % (predict_names[0], class_probability))\n",
        "#model= predict_names\n",
        "#model.save('facial_recognition.h5')\n",
        "print('Expected: %s' % random_face_name[0])\n",
        "#plot for fun\n",
        "pyplot.imshow(random_face_pixels)\n",
        "title= '%s (%.3f)' % (predict_names[0], class_probability)\n",
        "pyplot.title(title)\n",
        "pyplot.show()"
      ],
      "execution_count": 0,
      "outputs": [
        {
          "output_type": "stream",
          "text": [
            "Dataset: train=19, test=14\n",
            "Accuracy: train=100.000, test= 100.000\n",
            "Predicted: Aaron (93.906)\n",
            "Expected: Aaron\n"
          ],
          "name": "stdout"
        },
        {
          "output_type": "display_data",
          "data": {
            "image/png": "[encoded data removed]",
            "text/plain": [
              "<Figure size 432x288 with 1 Axes>"
            ]
          },
          "metadata": {
            "tags": [],
            "needs_background": "light"
          }
        }
      ]
    }
  ]
}